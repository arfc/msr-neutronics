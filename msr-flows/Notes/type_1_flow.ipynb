{
 "cells": [
  {
   "cell_type": "markdown",
   "metadata": {},
   "source": [
    "## Linear Growth Approximation\n",
    "\n",
    "The linear growth approximation is an approach which assumes that over some time step X, the growth is approximately linear. This means that the removal constant must be calculated such that the number of atoms at time X is the same as SaltProc at that time. As long as accuracy can be maintained to some position past where the SaltProc value is determined, then this method can be used to reduce the computational time of SaltProc by making a series of small linear approximations.\n",
    "\n",
    "![title](LGA.png)\n",
    "\n",
    "This approach has 3 main steps\n",
    "\n",
    "1. Run Serpent with no reprocessing for X days\n",
    "\n",
    "    1a. This gives enough data to create an approximate linear growth term\n",
    "    \n",
    "$$\\frac{dN}{dt} = C$$\n",
    "\n",
    "$$C = \\frac{N_f - N_i}{t_f - t_i}$$\n",
    "\n",
    "2. Plug the constant growth value in and then include reprocessing with the condition that it must match SaltProc at a given time        \n",
    "\n",
    "    2a. Setting up problem; solve using scipy.optimize root function\n",
    "    \n",
    "$$N(t) = N_i e^{-\\lambda t} + \\frac{C}{\\lambda} \\left( 1 - e^{-\\lambda t}  \\right)$$\n",
    "\n",
    "    2b. Difference between no removal and SaltProc is waste atoms, which means waste should be calculated.\n",
    "    \n",
    "$$\\frac{dN_{waste}}{dt} = \\lambda N(t)$$\n",
    "\n",
    "$$\\frac{dN_{waste}}{dt} = \\lambda (N_i e^{-\\lambda t} + \\frac{C}{\\lambda} \\left( 1 - e^{-\\lambda t}  \\right))$$\n",
    "\n",
    "$$N_{waste}(t) = A + Ct + \\frac{C e^{-\\lambda t}}{\\lambda} - N_0 e^{-\\lambda t}$$\n",
    "\n",
    "$$A = N_0 - \\frac{C}{\\lambda}$$\n",
    "\n",
    "\n",
    "3. Run Serpent using type 1 flows and the calculated reprocessing constants"
   ]
  },
  {
   "cell_type": "markdown",
   "metadata": {},
   "source": []
  },
  {
   "cell_type": "code",
   "execution_count": null,
   "metadata": {},
   "outputs": [],
   "source": []
  }
 ],
 "metadata": {
  "kernelspec": {
   "display_name": "Python 3",
   "language": "python",
   "name": "python3"
  },
  "language_info": {
   "codemirror_mode": {
    "name": "ipython",
    "version": 3
   },
   "file_extension": ".py",
   "mimetype": "text/x-python",
   "name": "python",
   "nbconvert_exporter": "python",
   "pygments_lexer": "ipython3",
   "version": "3.7.0"
  }
 },
 "nbformat": 4,
 "nbformat_minor": 4
}
